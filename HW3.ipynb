{
 "cells": [
  {
   "cell_type": "code",
   "execution_count": 1,
   "id": "34ea2c7d",
   "metadata": {},
   "outputs": [],
   "source": [
    "import numpy as np\n",
    "\n",
    "np.set_printoptions(precision=2, suppress=True)"
   ]
  },
  {
   "cell_type": "markdown",
   "id": "4919b5af",
   "metadata": {},
   "source": [
    "__1.__ Найдите собственные векторы и собственные значения для линейного оператора, заданного матрицей:\n",
    "\n",
    "$$A=\\begin{pmatrix}\n",
    "-1 & -6\\\\ \n",
    "2 & 6\n",
    "\\end{pmatrix}.$$"
   ]
  },
  {
   "cell_type": "code",
   "execution_count": 2,
   "id": "f176d06f",
   "metadata": {},
   "outputs": [
    {
     "name": "stdout",
     "output_type": "stream",
     "text": [
      "Матрица A:\n",
      "[[-1 -6]\n",
      " [ 2  6]]\n",
      "Собственные значения:\n",
      "[2. 3.]\n",
      "Собственные векторы:\n",
      "[[-0.89  0.83]\n",
      " [ 0.45 -0.55]]\n"
     ]
    }
   ],
   "source": [
    "A = np.array([[-1, -6], [2, 6]])\n",
    "w, v = np.linalg.eig(A)\n",
    " \n",
    "print(f'Матрица A:\\n{A}')\n",
    "print(f'Собственные значения:\\n{w}')\n",
    "print(f'Собственные векторы:\\n{v}')"
   ]
  },
  {
   "cell_type": "markdown",
   "id": "9d7df033",
   "metadata": {},
   "source": [
    "__2.__ Дан оператор поворота на 180 градусов, задаваемый матрицей:\n",
    "\n",
    "$$A=\\begin{pmatrix}\n",
    "-1 & 0\\\\ \n",
    "0 & -1\n",
    "\\end{pmatrix}.$$\n",
    "Покажите, что __любой__ вектор считается для него собственным.\n",
    "\n"
   ]
  },
  {
   "cell_type": "markdown",
   "id": "53d05434",
   "metadata": {},
   "source": [
    "Найдём собственные значения: \n",
    "$$\\begin{vmatrix}\n",
    "-1-\\lambda & 0\\\\ \n",
    "0 & -1-\\lambda\n",
    "\\end{vmatrix} = 0,$$\n",
    "\n",
    "$$(-1-\\lambda)(-1-\\lambda)-0\\cdot0=0,$$\n",
    "\n",
    "$$(-1-\\lambda)^{2}=0,$$\n",
    "\n",
    "$$\\lambda=-1.$$\n",
    "\n",
    "Найдём собственные векторы вида $\\begin{pmatrix}\n",
    "x\\\\ \n",
    "y\n",
    "\\end{pmatrix}$, подставив полученное собственное значение в выражение $\\textbf{A}x=\\lambda x$:\n",
    "\n",
    "$$\\begin{pmatrix}\n",
    "-1 & 0\\\\ \n",
    "0 & -1\n",
    "\\end{pmatrix}\n",
    "\\begin{pmatrix}\n",
    "x\\\\ \n",
    "y\n",
    "\\end{pmatrix}=\n",
    "\\lambda\n",
    "\\begin{pmatrix}\n",
    "x\\\\ \n",
    "y\n",
    "\\end{pmatrix}.\n",
    "$$\n",
    "\n",
    "\n",
    "Получим:\n",
    "\n",
    "$$\\begin{cases}\n",
    "-x= -x, \\\\\n",
    "-y= -y.\n",
    "\\end{cases}$$ \n",
    "\n",
    "Система верна при любых значениях x и y, таким образом любой вектор является для данного оператора собственным."
   ]
  },
  {
   "cell_type": "markdown",
   "id": "a056528a",
   "metadata": {},
   "source": [
    "__3.__ Пусть линейный оператор задан матрицей:\n",
    "\n",
    "$$A=\\begin{pmatrix}\n",
    "1 & 1\\\\ \n",
    "-1 & 3\n",
    "\\end{pmatrix}.$$\n",
    "\n",
    "Установите, считается ли вектор $x=(1,1)$ собственным вектором этого линейного оператора.\n",
    "\n"
   ]
  },
  {
   "cell_type": "markdown",
   "id": "2608fa22",
   "metadata": {},
   "source": [
    "Найдём собственные значения: \n",
    "    $$\\begin{vmatrix}\n",
    "1-\\lambda & 1\\\\ \n",
    "-1 & 3-\\lambda\n",
    "\\end{vmatrix} = 0,$$\n",
    "\n",
    "$$(1-\\lambda)(3-\\lambda)+1\\cdot1=0,$$\n",
    "\n",
    "$$\\lambda=2.$$\n",
    "\n",
    "Подставив вектор в систему получим:\n",
    "\n",
    "$$\\begin{pmatrix}\n",
    "1 & 1\\\\ \n",
    "-1 & 3\n",
    "\\end{pmatrix}\n",
    "\\begin{pmatrix}\n",
    "1\\\\ \n",
    "1\n",
    "\\end{pmatrix}=\n",
    "2\n",
    "\\begin{pmatrix}\n",
    "1\\\\ \n",
    "1\n",
    "\\end{pmatrix}.\n",
    "$$\n",
    "\n",
    "\n",
    "$$\\begin{cases}\n",
    "2 = 2, \\\\\n",
    "2 = 2.\n",
    "\\end{cases}$$ \n",
    "\n",
    "Система верна, т.о. вектор является собственным."
   ]
  },
  {
   "cell_type": "markdown",
   "id": "1d6a7e22",
   "metadata": {},
   "source": [
    "**4.** Пусть линейный оператор задан матрицей:\n",
    "\n",
    "$$A=\\begin{pmatrix} 0 & 3 & 0\\\\ 3 & 0 & 0\\\\ 0 & 0 & 3 \\end{pmatrix}.$$\n",
    "\n",
    "Установите, считается ли вектор $x=(3, -3, -4)$ собственным вектором этого линейного оператора."
   ]
  },
  {
   "cell_type": "markdown",
   "id": "189c3caa",
   "metadata": {},
   "source": [
    "Предположим, что вектор  𝑥  считается собственным вектором заданного линейного оператора. Т.о. получим: \n",
    "\n",
    "$$\\begin{pmatrix}\n",
    "0 & 3 & 0\\\\ \n",
    "3 & 0 & 0\\\\\n",
    "0 & 0 & 3\n",
    "\\end{pmatrix}\n",
    "\\begin{pmatrix}\n",
    "3\\\\\n",
    "-3\\\\\n",
    "-4\n",
    "\\end{pmatrix}=\n",
    "\\lambda\n",
    "\\begin{pmatrix}\n",
    "3\\\\\n",
    "-3\\\\\n",
    "-4\n",
    "\\end{pmatrix}\n",
    "$$\n",
    "\n",
    "$$\\Rightarrow\n",
    "\\begin{cases}\n",
    "3\\lambda=9\\\\ \n",
    "-3\\lambda=-9\\\\\n",
    "-4\\lambda=-12\n",
    "\\end{cases}\n",
    "\\Rightarrow\n",
    "\\begin{cases}\n",
    "\\lambda=3\\\\\n",
    "\\lambda=-3.\n",
    "\\end{cases}$$\n",
    "\n",
    "Система не имеет смысла, т.о. вектор НЕ является собственным."
   ]
  },
  {
   "cell_type": "code",
   "execution_count": null,
   "id": "5b80b874",
   "metadata": {},
   "outputs": [],
   "source": []
  }
 ],
 "metadata": {
  "kernelspec": {
   "display_name": "Python 3 (ipykernel)",
   "language": "python",
   "name": "python3"
  },
  "language_info": {
   "codemirror_mode": {
    "name": "ipython",
    "version": 3
   },
   "file_extension": ".py",
   "mimetype": "text/x-python",
   "name": "python",
   "nbconvert_exporter": "python",
   "pygments_lexer": "ipython3",
   "version": "3.9.13"
  }
 },
 "nbformat": 4,
 "nbformat_minor": 5
}
